{
 "cells": [
  {
   "cell_type": "markdown",
   "id": "b36503fe",
   "metadata": {},
   "source": [
    "### Assessing protein conformational dynamics through the analysis of the publicly available protein structures"
   ]
  },
  {
   "cell_type": "markdown",
   "id": "a335bb58",
   "metadata": {},
   "source": [
    "The purpose of this notebook is to reproduce the HIV-protease conformational analyses demonstrated in the:\n",
    "\n",
    "Katebi et al. <i>The Use of Experimental Structures to Model Protein Dynamics</i>, <b>Methods Mol Biol. 2015; 1215: 213–236. </b>\n",
    "\n",
    "We demonstrate how the complex multi-step procedures can be, to a great extent, simplified with our <b>localpdb</b> package and other commonly used bioinformatics tools."
   ]
  },
  {
   "cell_type": "markdown",
   "id": "ec4b821d",
   "metadata": {},
   "source": [
    "#### Imports"
   ]
  },
  {
   "cell_type": "code",
   "execution_count": 2,
   "id": "e7090795",
   "metadata": {},
   "outputs": [],
   "source": [
    "import gzip\n",
    "from localpdb import PDB\n",
    "\n",
    "from Bio.PDB import Select\n",
    "from Bio.PDB.PDBParser import PDBParser\n",
    "from Bio.PDB import PDBIO\n",
    "from Bio import pairwise2\n",
    "from Bio.SubsMat import MatrixInfo as matlist\n",
    "\n",
    "\n",
    "import pytraj as pt\n",
    "import seaborn as sns\n",
    "import matplotlib.pyplot as plt\n",
    "import numpy as np\n",
    "\n",
    "from sklearn.cluster import KMeans"
   ]
  },
  {
   "cell_type": "markdown",
   "id": "32d1256b",
   "metadata": {},
   "source": [
    "#### Initiate localpdb and load clustering data"
   ]
  },
  {
   "cell_type": "code",
   "execution_count": 5,
   "id": "e4e6beb0",
   "metadata": {},
   "outputs": [],
   "source": [
    "lpdb = PDB('/ssd/db/localpdb', plugins=['PDBSeqresMapper', 'PDBClustering'])"
   ]
  },
  {
   "cell_type": "code",
   "execution_count": 6,
   "id": "c75a4627",
   "metadata": {},
   "outputs": [],
   "source": [
    "lpdb.load_clustering_data(redundancy=90)"
   ]
  },
  {
   "cell_type": "markdown",
   "id": "4cac5b6b",
   "metadata": {},
   "source": [
    "#### Select clusters containing HIV-protease entries\n",
    "Note that you can use lpdb.search_seq() method or other selectors"
   ]
  },
  {
   "cell_type": "code",
   "execution_count": 7,
   "id": "6993359b",
   "metadata": {},
   "outputs": [],
   "source": [
    "lpdb.chains = lpdb.chains[lpdb.chains['clust-90'] == '3']"
   ]
  },
  {
   "cell_type": "markdown",
   "id": "591ccfd5",
   "metadata": {},
   "source": [
    "#### Select entries of reasonable quality"
   ]
  },
  {
   "cell_type": "code",
   "execution_count": 8,
   "id": "05e16f9c",
   "metadata": {},
   "outputs": [],
   "source": [
    "lpdb.entries = lpdb.entries.query('method == \"diffraction\"')\n",
    "lpdb.entries = lpdb.entries.query('resolution <= 3')"
   ]
  },
  {
   "cell_type": "markdown",
   "id": "1abb34a8",
   "metadata": {},
   "source": [
    "#### Find only entries that have both A and B chains\n",
    "(We want to analyze dimers only)"
   ]
  },
  {
   "cell_type": "code",
   "execution_count": 9,
   "id": "769e153e",
   "metadata": {},
   "outputs": [],
   "source": [
    "clean_idx = [chain for idx in lpdb.entries.index \n",
    "             if f'{idx}_A' and f'{idx}_B' in lpdb.chains.index \n",
    "             for chain in [f'{idx}_A', f'{idx}_B']]\n",
    "lpdb.chains = lpdb.chains.loc[clean_idx]"
   ]
  },
  {
   "cell_type": "markdown",
   "id": "e3d06eea",
   "metadata": {},
   "source": [
    "#### Auxiliary definitions to process PDB structures"
   ]
  },
  {
   "cell_type": "code",
   "execution_count": 53,
   "id": "134e6c11",
   "metadata": {},
   "outputs": [],
   "source": [
    "parser = PDBParser(QUIET=True)\n",
    "writer = PDBIO()\n",
    "\n",
    "def is_continous(list_):\n",
    "    try:\n",
    "        return all([int(list_[i]) == int(list_[i + 1]) - 1 for i in range(0, len(list_) - 1)])\n",
    "    except ValueError:\n",
    "        return False\n",
    "\n",
    "class CustomSelect(Select):\n",
    "    def __init__(self, accept_dict):\n",
    "        self.accept_dict = accept_dict\n",
    "        \n",
    "    def accept_residue(self, residue):\n",
    "        try:\n",
    "            return residue.get_id()[1] in self.accept_dict[residue.get_parent().id]\n",
    "        except KeyError:\n",
    "            return False\n",
    "\n",
    "    def accept_atom(self, atom):\n",
    "        if (not atom.is_disordered()) or atom.get_altloc() == 'A' or atom.get_altloc() == '1':\n",
    "            atom.set_altloc(' ')\n",
    "            if atom.get_name() == 'CA':\n",
    "                return True\n",
    "        return False"
   ]
  },
  {
   "cell_type": "markdown",
   "id": "1aa321fb",
   "metadata": {},
   "source": [
    "#### Process PDB structures\n",
    "Here the PDB sequences are aligned to the query reference sequence of the HIV protease. Subsequently chains A and B are extracted. Structures are checked for missing gaps that would prevent subsequent PCA analyses."
   ]
  },
  {
   "cell_type": "code",
   "execution_count": 12,
   "id": "c2e20060",
   "metadata": {},
   "outputs": [],
   "source": [
    "qseq = 'PQVTLWQRPLVTIKIGGQLKEALLDTGADDTVLEEMSLPGRWKPKMIGGIGGFIKVRQYDQILIEICGHKAIGTVLVGPTPVNIIGRNLLTQIGATLNF'\n",
    "fns = []\n",
    "for idx in lpdb.entries.index:\n",
    "    indices = {}\n",
    "    for chain in ['A', 'B']:\n",
    "        sseq = lpdb.chains.loc[f'{idx}_{chain}', 'sequence']\n",
    "        mapping = lpdb.get_pdbseqres_mapping(f'{idx}_{chain}', reverse=True)\n",
    "        aln = pairwise2.align.globaldd(qseq, sseq, matlist.blosum62, -11, -1, -11, -1)\n",
    "        qaln, saln = aln[0][0], aln[0][1]\n",
    "        qidx, sidx = qaln.index(qseq), saln.index(sseq)\n",
    "        assert qseq in qaln\n",
    "        assert sseq in saln\n",
    "        try:\n",
    "            indices[chain] = [k for k in range(int(mapping[qidx]), int(mapping[qidx+len(qseq)-1]))] if is_continous(list(mapping.keys())) else None\n",
    "        except KeyError:\n",
    "            indices[chain] = None\n",
    "    if indices['A'] and indices['B']:\n",
    "        with gzip.open(lpdb.entries.loc[idx, 'pdb_fn'], 'rt') as f:\n",
    "            s = parser.get_structure('s', f)[0]\n",
    "        writer.set_structure(s)\n",
    "        writer.save(f'hiv_protease/{idx}.pdb', select=CustomSelect(indices))\n",
    "        fns.append(f'hiv_protease/{idx}.pdb')"
   ]
  },
  {
   "cell_type": "markdown",
   "id": "7bae0420",
   "metadata": {},
   "source": [
    "#### Load processed structures and perform PCA"
   ]
  },
  {
   "cell_type": "code",
   "execution_count": 20,
   "id": "23ddba31",
   "metadata": {},
   "outputs": [],
   "source": [
    "traj = pt.load(fns, top=fns[0])\n",
    "pca = pt.pca(traj, '@CA', n_vecs=-1, fit=True)"
   ]
  },
  {
   "cell_type": "markdown",
   "id": "c87e9bd2",
   "metadata": {},
   "source": [
    "#### Cluster PCA representations"
   ]
  },
  {
   "cell_type": "code",
   "execution_count": 14,
   "id": "e5d054e2",
   "metadata": {},
   "outputs": [
    {
     "data": {
      "text/plain": [
       "KMeans(n_clusters=3)"
      ]
     },
     "execution_count": 14,
     "metadata": {},
     "output_type": "execute_result"
    }
   ],
   "source": [
    "km = KMeans(n_clusters=3)\n",
    "km.fit(pca[0].T)"
   ]
  },
  {
   "cell_type": "markdown",
   "id": "cdaed275",
   "metadata": {},
   "source": [
    "#### Prepare labels and plot"
   ]
  },
  {
   "cell_type": "code",
   "execution_count": 15,
   "id": "c2554d76",
   "metadata": {},
   "outputs": [],
   "source": [
    "# Find and store centroid structures\n",
    "label_idxs = {}\n",
    "for i, center in enumerate(km.cluster_centers_):\n",
    "    centroid = [100]\n",
    "    for j, point in enumerate(pca[0].T):\n",
    "        id_ = fns[j].split('/')[1][0:4]\n",
    "        dist = np.linalg.norm(point-center)\n",
    "        if dist < centroid[0]:\n",
    "            centroid = (dist, point[0], point[1], id_)\n",
    "            label_idxs[i] = centroid"
   ]
  },
  {
   "cell_type": "code",
   "execution_count": 18,
   "id": "5f84c4fa",
   "metadata": {},
   "outputs": [
    {
     "data": {
      "text/plain": [
       "Text(0, 0.5, 'PC2 ($\\\\AA$)')"
      ]
     },
     "execution_count": 18,
     "metadata": {},
     "output_type": "execute_result"
    },
    {
     "data": {
      "image/png": "[encoded data removed]",
      "text/plain": [
       "<Figure size 720x504 with 1 Axes>"
      ]
     },
     "metadata": {
      "needs_background": "light"
     },
     "output_type": "display_data"
    }
   ],
   "source": [
    "# Plot\n",
    "fig, ax = plt.subplots(figsize=(10, 7))\n",
    "ax.scatter(pca[0][0], pca[0][1], s=45, c=km.labels_, cmap='Set1')\n",
    "for _, x, y, label in label_idxs.values(): \n",
    "    ax.annotate(label, (x, y), xytext=(x+5, y), fontsize=20, fontweight='bold',\n",
    "                arrowprops=dict(facecolor='black'))\n",
    "plt.xlabel(r'PC1 ($\\AA$)', fontsize=18)\n",
    "plt.ylabel(r'PC2 ($\\AA$)', fontsize=18)"
   ]
  },
  {
   "cell_type": "markdown",
   "id": "f43ff412",
   "metadata": {},
   "source": [
    "The obtained representation nicely corresponds to the one obtained in the original paper - <a href=\"https://www.ncbi.nlm.nih.gov/pmc/articles/PMC4206088/figure/F3/?report=objectonly\">compare with the reference</a>"
   ]
  },
  {
   "cell_type": "markdown",
   "id": "327af563",
   "metadata": {},
   "source": [
    "#### Variance explained by subsequent PCs"
   ]
  },
  {
   "cell_type": "code",
   "execution_count": 40,
   "id": "b51190e5",
   "metadata": {},
   "outputs": [],
   "source": [
    "cum_var = (100*np.cumsum(pca[1][0])/np.sum(pca[1][0]))[0:9]"
   ]
  },
  {
   "cell_type": "code",
   "execution_count": 52,
   "id": "4b4c3107",
   "metadata": {},
   "outputs": [
    {
     "data": {
      "text/plain": [
       "Text(0, 0.5, 'Cumulated variance (%)')"
      ]
     },
     "execution_count": 52,
     "metadata": {},
     "output_type": "execute_result"
    },
    {
     "data": {
      "image/png": "[encoded data removed]",
      "text/plain": [
       "<Figure size 432x288 with 1 Axes>"
      ]
     },
     "metadata": {
      "needs_background": "light"
     },
     "output_type": "display_data"
    }
   ],
   "source": [
    "plt.plot(np.arange(1, len(cum_var)+1, 1), cum_var)\n",
    "plt.scatter(np.arange(1, len(cum_var)+1, 1), cum_var)\n",
    "plt.ylim(0, 100)\n",
    "plt.xlim(0.5, 9.5)\n",
    "plt.xlabel(r'Eigenvector number', fontsize=14)\n",
    "plt.ylabel(r'Cumulated variance (%)', fontsize=14)"
   ]
  }
 ],
 "metadata": {
  "kernelspec": {
   "display_name": "Python 3",
   "language": "python",
   "name": "python3"
  },
  "language_info": {
   "codemirror_mode": {
    "name": "ipython",
    "version": 3
   },
   "file_extension": ".py",
   "mimetype": "text/x-python",
   "name": "python",
   "nbconvert_exporter": "python",
   "pygments_lexer": "ipython3",
   "version": "3.6.9"
  }
 },
 "nbformat": 4,
 "nbformat_minor": 5
}
