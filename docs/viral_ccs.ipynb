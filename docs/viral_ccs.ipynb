{
 "cells": [
  {
   "cell_type": "markdown",
   "id": "3e9f56c1",
   "metadata": {},
   "source": [
    "In this notebook we'll use localpdb to analyze the amino acid preferences in the viral coiled-coil domains."
   ]
  },
  {
   "cell_type": "markdown",
   "id": "d7a9d91b",
   "metadata": {},
   "source": [
    "#### Imports"
   ]
  },
  {
   "cell_type": "code",
   "execution_count": 3,
   "id": "52d4816f",
   "metadata": {},
   "outputs": [],
   "source": [
    "import pandas as pd\n",
    "import seaborn as sns\n",
    "import matplotlib.pyplot as plt\n",
    "\n",
    "from localpdb import PDB"
   ]
  },
  {
   "cell_type": "markdown",
   "id": "aede8a1f",
   "metadata": {},
   "source": [
    "#### Initiate localpdb and load Socket data"
   ]
  },
  {
   "cell_type": "code",
   "execution_count": 5,
   "id": "b0a5052c",
   "metadata": {},
   "outputs": [],
   "source": [
    "lpdb = PDB('/ssd/db/localpdb', plugins=['Socket'])"
   ]
  },
  {
   "cell_type": "markdown",
   "id": "7aa5d44c",
   "metadata": {},
   "source": [
    "#### Search for viral proteins with RCSB search API wrapper"
   ]
  },
  {
   "cell_type": "code",
   "execution_count": 6,
   "id": "d2224cf2",
   "metadata": {},
   "outputs": [],
   "source": [
    "lpdb.search(attribute='struct_keywords.pdbx_keywords', operator='contains_phrase', \n",
    "            value='VIRAL PROTEIN', no_hits=-1, select=True)"
   ]
  },
  {
   "cell_type": "markdown",
   "id": "790ba46a",
   "metadata": {},
   "source": [
    "#### Select only entries than contain coiled-coil domain"
   ]
  },
  {
   "cell_type": "code",
   "execution_count": 7,
   "id": "fdb93787",
   "metadata": {},
   "outputs": [],
   "source": [
    "lpdb.entries = lpdb.entries[lpdb.entries['socket_7.0'].notnull()]"
   ]
  },
  {
   "cell_type": "markdown",
   "id": "a9c448b9",
   "metadata": {},
   "source": [
    "#### Select X-ray entries of reasonable quality"
   ]
  },
  {
   "cell_type": "code",
   "execution_count": 8,
   "id": "bd156626",
   "metadata": {},
   "outputs": [],
   "source": [
    "lpdb.entries = lpdb.entries.query('method == \"diffraction\"')\n",
    "lpdb.entries = lpdb.entries.query('resolution <= 2.0')"
   ]
  },
  {
   "cell_type": "markdown",
   "id": "0ed7b68a",
   "metadata": {},
   "source": [
    "#### Get Socket data for selected entries"
   ]
  },
  {
   "cell_type": "code",
   "execution_count": 9,
   "id": "1fc6adee",
   "metadata": {},
   "outputs": [],
   "source": [
    "socket = lpdb.get_socket_dict(method='heptads')"
   ]
  },
  {
   "cell_type": "markdown",
   "id": "d78e77a9",
   "metadata": {},
   "source": [
    "#### Iterate over entries and collect per-residue statistics"
   ]
  },
  {
   "cell_type": "code",
   "execution_count": 13,
   "id": "a553a250",
   "metadata": {},
   "outputs": [],
   "source": [
    "stats = {pos: {aa: 0 for aa in 'AILVCDEFGHKMNPQRSTWYX'} for pos in 'abcdefg'}\n",
    "\n",
    "# Iterate over all coiled-coil domains and compute stats\n",
    "for entry, ccs in socket.items():\n",
    "    for cc in ccs.values():\n",
    "        for seq, hept_register in zip(cc['sequences'].values(), cc['heptads'].values()):\n",
    "            for aa, hept in zip(seq, hept_register):\n",
    "                stats[hept][aa] += 1"
   ]
  },
  {
   "cell_type": "markdown",
   "id": "73c957c0",
   "metadata": {},
   "source": [
    "#### Plot residue preferences among heptad positions"
   ]
  },
  {
   "cell_type": "code",
   "execution_count": 23,
   "id": "e2862430",
   "metadata": {},
   "outputs": [
    {
     "data": {
      "image/png": "[encoded data removed]",
      "text/plain": [
       "<Figure size 504x504 with 1 Axes>"
      ]
     },
     "metadata": {
      "needs_background": "light"
     },
     "output_type": "display_data"
    }
   ],
   "source": [
    "df = pd.DataFrame.from_dict(stats)\n",
    "plt.figure(figsize=(7, 7))\n",
    "ax = sns.heatmap(df, cmap='YlGnBu', cbar=False, linewidths=.1)\n",
    "ax.set_xticklabels(ax.get_xmajorticklabels(), fontsize = 18)\n",
    "ax.set_yticklabels(ax.get_ymajorticklabels(), fontsize = 16, rotation=45);"
   ]
  }
 ],
 "metadata": {
  "kernelspec": {
   "display_name": "Python 3",
   "language": "python",
   "name": "python3"
  },
  "language_info": {
   "codemirror_mode": {
    "name": "ipython",
    "version": 3
   },
   "file_extension": ".py",
   "mimetype": "text/x-python",
   "name": "python",
   "nbconvert_exporter": "python",
   "pygments_lexer": "ipython3",
   "version": "3.6.9"
  }
 },
 "nbformat": 4,
 "nbformat_minor": 5
}
